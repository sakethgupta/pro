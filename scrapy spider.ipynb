{
 "cells": [
  {
   "cell_type": "code",
   "execution_count": 51,
   "metadata": {},
   "outputs": [],
   "source": [
    "import pandas as pd\n",
    "data1=pd.read_csv(\"output.csv\")"
   ]
  },
  {
   "cell_type": "code",
   "execution_count": 52,
   "metadata": {},
   "outputs": [
    {
     "data": {
      "text/html": [
       "<div>\n",
       "<style scoped>\n",
       "    .dataframe tbody tr th:only-of-type {\n",
       "        vertical-align: middle;\n",
       "    }\n",
       "\n",
       "    .dataframe tbody tr th {\n",
       "        vertical-align: top;\n",
       "    }\n",
       "\n",
       "    .dataframe thead th {\n",
       "        text-align: right;\n",
       "    }\n",
       "</style>\n",
       "<table border=\"1\" class=\"dataframe\">\n",
       "  <thead>\n",
       "    <tr style=\"text-align: right;\">\n",
       "      <th></th>\n",
       "      <th>website_name</th>\n",
       "      <th>website_url</th>\n",
       "    </tr>\n",
       "  </thead>\n",
       "  <tbody>\n",
       "    <tr>\n",
       "      <th>0</th>\n",
       "      <td>Arts,Movies,Television,Music,Business,Jobs,Rea...</td>\n",
       "      <td>/Arts/Movies/,/Arts/Television/,/Arts/Music/,/...</td>\n",
       "    </tr>\n",
       "  </tbody>\n",
       "</table>\n",
       "</div>"
      ],
      "text/plain": [
       "                                        website_name  \\\n",
       "0  Arts,Movies,Television,Music,Business,Jobs,Rea...   \n",
       "\n",
       "                                         website_url  \n",
       "0  /Arts/Movies/,/Arts/Television/,/Arts/Music/,/...  "
      ]
     },
     "execution_count": 52,
     "metadata": {},
     "output_type": "execute_result"
    }
   ],
   "source": [
    "data1.head()\n"
   ]
  },
  {
   "cell_type": "code",
   "execution_count": 53,
   "metadata": {},
   "outputs": [
    {
     "data": {
      "text/plain": [
       "'/Arts/Movies/,/Arts/Television/,/Arts/Music/,/Business/,/Business/Employment/,/Business/Real_Estate/,/Business/Investing/,/Computers/,/Computers/Internet/,/Computers/Software/,/Computers/Hardware/,/Games/,/Games/Video_Games/,/Games/Roleplaying/,/Games/Gambling/,/Health/,/Health/Fitness/,/Health/Medicine/,/Health/Alternative/,/Home/,/Home/Family/,/Home/Consumer_Information/,/Home/Cooking/,/News/,/News/Media/,/News/Newspapers/,/News/Weather/,/Recreation/,/Recreation/Travel/,/Recreation/Food/,/Recreation/Outdoors/,/Recreation/Humor/,/Reference/,/Reference/Maps/,/Reference/Education/,/Reference/Libraries/,/Regional/,/Regional/North_America/United_States/,/Regional/North_America/Canada/,/Regional/Europe/United_Kingdom/,/Regional/Europe/,/Science/,/Science/Biology/,/Science/Social_Sciences/Psychology/,/Science/Physics/,/Shopping/,/Shopping/Clothing/,/Shopping/Food/,/Shopping/Gifts/,/Society/,/Society/People/,/Society/Religion_and_Spirituality/,/Society/Issues/,/Sports/,/Sports/Baseball/,/Sports/Soccer/,/Sports/Basketball/,/Kids_and_Teens/,/Kids_and_Teens/Arts/,/Kids_and_Teens/School_Time/,/Kids_and_Teens/Teen_Life/,/World/,/World/Deutsch/,/World/Fran%C3%A7ais/,/World/Japanese/,/World/Italiano/,/World/Espa%C3%B1ol/,/World/Russian/,/World/Nederlands/,/World/Polski/,/World/T%C3%BCrk%C3%A7e/,/World/Dansk/,/World/Chinese_Simplified/,/docs/en/termsofuse.html,/docs/en/cmbuild.html'"
      ]
     },
     "execution_count": 53,
     "metadata": {},
     "output_type": "execute_result"
    }
   ],
   "source": [
    "data1.iloc[0][1]"
   ]
  },
  {
   "cell_type": "code",
   "execution_count": 63,
   "metadata": {},
   "outputs": [
    {
     "data": {
      "text/plain": [
       "'Arts,Movies,Television,Music,Business,Jobs,Real Estate,Investing,Computers,Internet,Software,Hardware,Games,Video Games,RPGs,Gambling,Health,Fitness,Medicine,Alternative,Home,Family,Consumers,Cooking,News,Media,Newspapers,Weather,Recreation,Travel,Food,Outdoors,Humor,Reference,Maps,Education,Libraries,Regional,US,Canada,UK,Europe,Science,Biology,Psychology,Physics,Shopping,Clothing,Food,Gifts,Society,People,Religion,Issues,Sports,Baseball,Soccer,Basketball,Kids , Teens Directory,Arts,School Time,Teen Life,DMOZ , World,Deutsch,Français,日本語,Italiano,Español,Русский,Nederlands,Polski,Türkçe,Dansk,简体中文,Terms of Use,CMBuild'"
      ]
     },
     "execution_count": 63,
     "metadata": {},
     "output_type": "execute_result"
    }
   ],
   "source": [
    "data1.iloc[0][0]"
   ]
  },
  {
   "cell_type": "code",
   "execution_count": 54,
   "metadata": {},
   "outputs": [],
   "source": [
    "a=str(data1.iloc[0][0])"
   ]
  },
  {
   "cell_type": "code",
   "execution_count": 55,
   "metadata": {},
   "outputs": [],
   "source": [
    "z=a.split(',')"
   ]
  },
  {
   "cell_type": "code",
   "execution_count": 58,
   "metadata": {},
   "outputs": [],
   "source": [
    "b=str(data1.iloc[0][1])"
   ]
  },
  {
   "cell_type": "code",
   "execution_count": 59,
   "metadata": {},
   "outputs": [],
   "source": [
    "x=b.split(\",\")"
   ]
  },
  {
   "cell_type": "code",
   "execution_count": 65,
   "metadata": {},
   "outputs": [
    {
     "name": "stdout",
     "output_type": "stream",
     "text": [
      "   website name                 website url\n",
      "0          Arts               /Arts/Movies/\n",
      "1        Movies           /Arts/Television/\n",
      "2    Television                /Arts/Music/\n",
      "3         Music                  /Business/\n",
      "4      Business       /Business/Employment/\n",
      "..          ...                         ...\n",
      "70      Русский    /World/T%C3%BCrk%C3%A7e/\n",
      "71   Nederlands               /World/Dansk/\n",
      "72       Polski  /World/Chinese_Simplified/\n",
      "73       Türkçe    /docs/en/termsofuse.html\n",
      "74        Dansk       /docs/en/cmbuild.html\n",
      "\n",
      "[75 rows x 2 columns]\n"
     ]
    }
   ],
   "source": [
    "fin = {'website name': z[0:75],\n",
    "        'website url': x\n",
    "        }\n",
    "\n",
    "df = pd.DataFrame(fin, columns = ['website name', 'website url'])\n",
    "\n",
    "print (df)"
   ]
  },
  {
   "cell_type": "code",
   "execution_count": 66,
   "metadata": {},
   "outputs": [
    {
     "data": {
      "text/plain": [
       "78"
      ]
     },
     "execution_count": 66,
     "metadata": {},
     "output_type": "execute_result"
    }
   ],
   "source": [
    "len(z)"
   ]
  },
  {
   "cell_type": "code",
   "execution_count": 67,
   "metadata": {},
   "outputs": [
    {
     "data": {
      "text/plain": [
       "75"
      ]
     },
     "execution_count": 67,
     "metadata": {},
     "output_type": "execute_result"
    }
   ],
   "source": [
    "len(x)"
   ]
  },
  {
   "cell_type": "code",
   "execution_count": 68,
   "metadata": {},
   "outputs": [
    {
     "data": {
      "text/html": [
       "<div>\n",
       "<style scoped>\n",
       "    .dataframe tbody tr th:only-of-type {\n",
       "        vertical-align: middle;\n",
       "    }\n",
       "\n",
       "    .dataframe tbody tr th {\n",
       "        vertical-align: top;\n",
       "    }\n",
       "\n",
       "    .dataframe thead th {\n",
       "        text-align: right;\n",
       "    }\n",
       "</style>\n",
       "<table border=\"1\" class=\"dataframe\">\n",
       "  <thead>\n",
       "    <tr style=\"text-align: right;\">\n",
       "      <th></th>\n",
       "      <th>website name</th>\n",
       "      <th>website url</th>\n",
       "    </tr>\n",
       "  </thead>\n",
       "  <tbody>\n",
       "    <tr>\n",
       "      <th>0</th>\n",
       "      <td>Arts</td>\n",
       "      <td>/Arts/Movies/</td>\n",
       "    </tr>\n",
       "    <tr>\n",
       "      <th>1</th>\n",
       "      <td>Movies</td>\n",
       "      <td>/Arts/Television/</td>\n",
       "    </tr>\n",
       "    <tr>\n",
       "      <th>2</th>\n",
       "      <td>Television</td>\n",
       "      <td>/Arts/Music/</td>\n",
       "    </tr>\n",
       "    <tr>\n",
       "      <th>3</th>\n",
       "      <td>Music</td>\n",
       "      <td>/Business/</td>\n",
       "    </tr>\n",
       "    <tr>\n",
       "      <th>4</th>\n",
       "      <td>Business</td>\n",
       "      <td>/Business/Employment/</td>\n",
       "    </tr>\n",
       "    <tr>\n",
       "      <th>...</th>\n",
       "      <td>...</td>\n",
       "      <td>...</td>\n",
       "    </tr>\n",
       "    <tr>\n",
       "      <th>70</th>\n",
       "      <td>Русский</td>\n",
       "      <td>/World/T%C3%BCrk%C3%A7e/</td>\n",
       "    </tr>\n",
       "    <tr>\n",
       "      <th>71</th>\n",
       "      <td>Nederlands</td>\n",
       "      <td>/World/Dansk/</td>\n",
       "    </tr>\n",
       "    <tr>\n",
       "      <th>72</th>\n",
       "      <td>Polski</td>\n",
       "      <td>/World/Chinese_Simplified/</td>\n",
       "    </tr>\n",
       "    <tr>\n",
       "      <th>73</th>\n",
       "      <td>Türkçe</td>\n",
       "      <td>/docs/en/termsofuse.html</td>\n",
       "    </tr>\n",
       "    <tr>\n",
       "      <th>74</th>\n",
       "      <td>Dansk</td>\n",
       "      <td>/docs/en/cmbuild.html</td>\n",
       "    </tr>\n",
       "  </tbody>\n",
       "</table>\n",
       "<p>75 rows × 2 columns</p>\n",
       "</div>"
      ],
      "text/plain": [
       "   website name                 website url\n",
       "0          Arts               /Arts/Movies/\n",
       "1        Movies           /Arts/Television/\n",
       "2    Television                /Arts/Music/\n",
       "3         Music                  /Business/\n",
       "4      Business       /Business/Employment/\n",
       "..          ...                         ...\n",
       "70      Русский    /World/T%C3%BCrk%C3%A7e/\n",
       "71   Nederlands               /World/Dansk/\n",
       "72       Polski  /World/Chinese_Simplified/\n",
       "73       Türkçe    /docs/en/termsofuse.html\n",
       "74        Dansk       /docs/en/cmbuild.html\n",
       "\n",
       "[75 rows x 2 columns]"
      ]
     },
     "execution_count": 68,
     "metadata": {},
     "output_type": "execute_result"
    }
   ],
   "source": [
    "df"
   ]
  },
  {
   "cell_type": "code",
   "execution_count": 70,
   "metadata": {},
   "outputs": [],
   "source": [
    "df.to_csv('catalog.csv',index=False)"
   ]
  },
  {
   "cell_type": "code",
   "execution_count": null,
   "metadata": {},
   "outputs": [],
   "source": []
  }
 ],
 "metadata": {
  "kernelspec": {
   "display_name": "Python 3",
   "language": "python",
   "name": "python3"
  },
  "language_info": {
   "codemirror_mode": {
    "name": "ipython",
    "version": 3
   },
   "file_extension": ".py",
   "mimetype": "text/x-python",
   "name": "python",
   "nbconvert_exporter": "python",
   "pygments_lexer": "ipython3",
   "version": "3.8.3"
  }
 },
 "nbformat": 4,
 "nbformat_minor": 4
}
